{
 "cells": [
  {
   "attachments": {},
   "cell_type": "markdown",
   "id": "389cabab",
   "metadata": {},
   "source": [
    "## Decision Tree\n",
    "\n"
   ]
  },
  {
   "cell_type": "code",
   "execution_count": null,
   "id": "cec989e5",
   "metadata": {},
   "outputs": [],
   "source": [
    "import pandas as pd\n",
    "from matplotlib import pyplot as plt\n",
    "\n",
    "dataset = pd.read_csv(\"../data/Cancer_Data.csv\")\n",
    "\n",
    "if 'Unnamed: 32' in dataset.columns:\n",
    "    dataset.drop('Unnamed: 32', axis=1, inplace=True)\n",
    "dataset['diagnosis'].replace(['B', 'M'],[0, 1], inplace=True) # B = 0, M = 1 \n",
    "dataset"
   ]
  },
  {
   "cell_type": "code",
   "execution_count": null,
   "id": "08902e81",
   "metadata": {},
   "outputs": [],
   "source": [
    "from sklearn.model_selection import train_test_split\n",
    "\n",
    "x = dataset.drop(['diagnosis','id'],axis=1)\n",
    "y = dataset['diagnosis']\n",
    "\n",
    "x_train, x_test, y_train, y_test = train_test_split(x, y, test_size=0.3)"
   ]
  },
  {
   "cell_type": "code",
   "execution_count": null,
   "id": "e9db3a40",
   "metadata": {},
   "outputs": [],
   "source": [
    "from sklearn.tree import DecisionTreeClassifier\n",
    "\n",
    "clf = DecisionTreeClassifier()\n",
    "clf.fit(x_train,y_train)\n"
   ]
  },
  {
   "cell_type": "code",
   "execution_count": null,
   "id": "a700e101",
   "metadata": {},
   "outputs": [],
   "source": [
    "predictions = clf.predict(x_test)"
   ]
  },
  {
   "cell_type": "code",
   "execution_count": null,
   "id": "ed1a187d",
   "metadata": {},
   "outputs": [],
   "source": [
    "from sklearn.metrics import accuracy_score\n",
    "accuracy_score(y_test, predictions)"
   ]
  },
  {
   "cell_type": "code",
   "execution_count": null,
   "id": "91206975",
   "metadata": {},
   "outputs": [],
   "source": [
    "from sklearn.metrics import precision_score\n",
    "precision_score(y_test, predictions)"
   ]
  },
  {
   "cell_type": "code",
   "execution_count": null,
   "id": "77d30f08",
   "metadata": {},
   "outputs": [],
   "source": [
    "path = clf.cost_complexity_pruning_path(x_train, y_train)\n",
    "ccp_alphas, impurities = path.ccp_alphas, path.impurities\n",
    "\n",
    "clfs = []\n",
    "\n",
    "for ccp_alpha in ccp_alphas:\n",
    "    clf = DecisionTreeClassifier(random_state=0, ccp_alpha=ccp_alpha)\n",
    "    clf.fit(x_train, y_train)\n",
    "    clfs.append(clf)\n",
    "\n",
    "acc_scores = [accuracy_score(y_test, clf.predict(x_test)) for clf in clfs]\n",
    "\n",
    "plt.figure(figsize=(10,  6))\n",
    "plt.grid()\n",
    "plt.plot(ccp_alphas[:-1], acc_scores[:-1])\n",
    "plt.xlabel(\"effective alpha\")\n",
    "plt.ylabel(\"Accuracy scores\")"
   ]
  },
  {
   "attachments": {},
   "cell_type": "markdown",
   "id": "0495e473",
   "metadata": {},
   "source": [
    "Feature Importance tells us the importance of each feature in determing our results"
   ]
  },
  {
   "cell_type": "code",
   "execution_count": null,
   "id": "159787d1",
   "metadata": {},
   "outputs": [],
   "source": [
    "feature_importance = pd.DataFrame(clf.feature_importances_, index = x_test.columns).sort_values(0, ascending=False)\n",
    "feature_importance.columns = ['%']\n",
    "feature_importance"
   ]
  },
  {
   "attachments": {},
   "cell_type": "markdown",
   "id": "a2759e7a",
   "metadata": {},
   "source": [
    "Let's try and seperate the data. First We are going to try to train our model only with the \"worst\" data."
   ]
  },
  {
   "cell_type": "code",
   "execution_count": null,
   "id": "23193cc4",
   "metadata": {},
   "outputs": [],
   "source": [
    "dataset_worst = dataset.filter(['fractal_dimension_worst','symmetry_worst','concave points_worst','concavity_worst','compactness_worst','smoothness_worst','area_worst','perimeter_worst','texture_worst','radius_worst'],axis=1)\n",
    "dataset_worst"
   ]
  },
  {
   "cell_type": "code",
   "execution_count": null,
   "id": "581b1c45",
   "metadata": {},
   "outputs": [],
   "source": [
    "x_worst = dataset_worst\n",
    "y_worst = dataset['diagnosis']\n",
    "\n",
    "x_worst_train, x_worst_test, y_worst_train, y_worst_test = train_test_split(x_worst, y_worst, test_size=0.3)"
   ]
  },
  {
   "cell_type": "code",
   "execution_count": null,
   "id": "ad54b272",
   "metadata": {},
   "outputs": [],
   "source": [
    "clf_worst = DecisionTreeClassifier()"
   ]
  },
  {
   "cell_type": "code",
   "execution_count": null,
   "id": "5389660e",
   "metadata": {},
   "outputs": [],
   "source": [
    "clf_worst.fit(x_worst_train,y_worst_train)\n",
    "predictions_worst = clf_worst.predict(x_worst_test)\n",
    "\n",
    "accuracy_score(y_worst_test, predictions_worst)"
   ]
  },
  {
   "cell_type": "code",
   "execution_count": null,
   "id": "2814fb37",
   "metadata": {},
   "outputs": [],
   "source": [
    "precision_score(y_worst_test, predictions_worst)"
   ]
  },
  {
   "cell_type": "code",
   "execution_count": null,
   "id": "80a3a8af",
   "metadata": {},
   "outputs": [],
   "source": [
    "path = clf_worst.cost_complexity_pruning_path(x_worst_train, y_worst_train)\n",
    "ccp_alphas, impurities = path.ccp_alphas, path.impurities\n",
    "\n",
    "clfs = []\n",
    "\n",
    "for ccp_alpha in ccp_alphas:\n",
    "    clf_worst = DecisionTreeClassifier(random_state=0, ccp_alpha=ccp_alpha)\n",
    "    clf_worst.fit(x_worst_train, y_worst_train)\n",
    "    clfs.append(clf_worst)\n",
    "\n",
    "acc_scores = [accuracy_score(y_worst_test, clf_worst.predict(x_worst_test)) for clf_worst in clfs]\n",
    "\n",
    "plt.figure(figsize=(10,  6))\n",
    "plt.grid()\n",
    "plt.plot(ccp_alphas[:-1], acc_scores[:-1])\n",
    "plt.xlabel(\"effective alpha\")\n",
    "plt.ylabel(\"Accuracy scores\")"
   ]
  },
  {
   "cell_type": "code",
   "execution_count": null,
   "id": "d4a9eb43",
   "metadata": {},
   "outputs": [],
   "source": [
    "max(acc_scores)"
   ]
  },
  {
   "cell_type": "code",
   "execution_count": null,
   "id": "e9baf9db",
   "metadata": {},
   "outputs": [],
   "source": [
    "ccp_alphas[acc_scores.index(max(acc_scores))]"
   ]
  },
  {
   "cell_type": "code",
   "execution_count": null,
   "id": "9bddb4f1",
   "metadata": {},
   "outputs": [],
   "source": [
    "feature_importance_worst = pd.DataFrame(clf_worst.feature_importances_, index = x_worst_test.columns).sort_values(0, ascending=False)\n",
    "feature_importance_worst.columns = ['%']\n",
    "feature_importance_worst"
   ]
  },
  {
   "attachments": {},
   "cell_type": "markdown",
   "id": "d7a952e7",
   "metadata": {},
   "source": [
    "Median Values"
   ]
  },
  {
   "cell_type": "code",
   "execution_count": null,
   "id": "bfd69405",
   "metadata": {},
   "outputs": [],
   "source": [
    "dataset_mean = dataset.filter(['fractal_dimension_mean','symmetry_mean','concave points_mean','concavity_mean','compactness_mean','smoothness_mean','area_mean','perimeter_mean','texture_mean','radius_mean'],axis=1)\n",
    "dataset_mean"
   ]
  },
  {
   "cell_type": "code",
   "execution_count": null,
   "id": "fa52bea7",
   "metadata": {},
   "outputs": [],
   "source": [
    "x_mean = dataset_mean\n",
    "y_mean = dataset['diagnosis']\n",
    "\n",
    "x_mean_train, x_mean_test, y_mean_train, y_mean_test = train_test_split(x_mean, y_mean, test_size=0.3)\n",
    "\n",
    "clf_mean = DecisionTreeClassifier()\n",
    "clf_mean.fit(x_mean_train,y_mean_train)\n",
    "predictions_mean = clf_mean.predict(x_mean_test)\n",
    "\n",
    "accuracy_score(y_mean_test, predictions_mean)"
   ]
  },
  {
   "cell_type": "code",
   "execution_count": null,
   "id": "0159f1e2",
   "metadata": {},
   "outputs": [],
   "source": [
    "precision_score(y_mean_test, predictions_mean)"
   ]
  },
  {
   "cell_type": "code",
   "execution_count": null,
   "id": "1df2c3f7",
   "metadata": {},
   "outputs": [],
   "source": [
    "from sklearn.metrics import confusion_matrix\n",
    "confusion_matrix(y_mean_test, predictions_mean, labels=[0,1])"
   ]
  },
  {
   "cell_type": "code",
   "execution_count": null,
   "id": "d686fa5d",
   "metadata": {},
   "outputs": [],
   "source": [
    "feature_importance_mean = pd.DataFrame(clf_mean.feature_importances_, index = x_mean_test.columns).sort_values(0, ascending=False)\n",
    "feature_importance_mean.columns = ['%']\n",
    "feature_importance_mean"
   ]
  },
  {
   "attachments": {},
   "cell_type": "markdown",
   "id": "99da2b34",
   "metadata": {},
   "source": [
    "SE VALUES"
   ]
  },
  {
   "cell_type": "code",
   "execution_count": null,
   "id": "f5f37e84",
   "metadata": {},
   "outputs": [],
   "source": [
    "dataset_se = dataset.filter(['fractal_dimension_se','symmetry_se','concave points_se','concavity_se','compactness_se','smoothness_se','area_se','perimeter_se','texture_se','radius_se'],axis=1)\n",
    "dataset_se"
   ]
  },
  {
   "cell_type": "code",
   "execution_count": null,
   "id": "85a3dc81",
   "metadata": {},
   "outputs": [],
   "source": [
    "x_se = dataset_se\n",
    "y_se = dataset['diagnosis']\n",
    "\n",
    "x_se_train, x_se_test, y_se_train, y_se_test = train_test_split(x_se, y_se, test_size=0.3)\n",
    "\n",
    "clf_se = DecisionTreeClassifier()\n",
    "clf_se.fit(x_se_train,y_se_train)\n",
    "predictions_se = clf_se.predict(x_se_test)\n",
    "\n",
    "accuracy_score(y_se_test, predictions_se)"
   ]
  },
  {
   "cell_type": "code",
   "execution_count": null,
   "id": "2b5e834a",
   "metadata": {},
   "outputs": [],
   "source": [
    "precision_score(y_se_test, predictions_se)"
   ]
  },
  {
   "cell_type": "code",
   "execution_count": null,
   "id": "186ee074",
   "metadata": {},
   "outputs": [],
   "source": [
    "feature_importance_se = pd.DataFrame(clf_se.feature_importances_, index = x_se_test.columns).sort_values(0, ascending=False)\n",
    "feature_importance_se.columns = ['%']\n",
    "feature_importance_se"
   ]
  },
  {
   "attachments": {},
   "cell_type": "markdown",
   "id": "ff072807",
   "metadata": {},
   "source": [
    "Since SE features predicted the worst values let's test without them"
   ]
  },
  {
   "cell_type": "code",
   "execution_count": null,
   "id": "b6a29428",
   "metadata": {},
   "outputs": [],
   "source": [
    "dataset_worstMean = dataset.drop(['id','diagnosis','fractal_dimension_se','symmetry_se','concave points_se','concavity_se','compactness_se','smoothness_se','area_se','perimeter_se','texture_se','radius_se'],axis=1)\n",
    "dataset_worstMean"
   ]
  },
  {
   "cell_type": "code",
   "execution_count": null,
   "id": "9076f73a",
   "metadata": {},
   "outputs": [],
   "source": [
    "x_worstMean = dataset_worstMean\n",
    "y_worstMean = dataset['diagnosis']\n",
    "\n",
    "x_worstMean_train, x_worstMean_test, y_worstMean_train, y_worstMean_test = train_test_split(x_worstMean, y_worstMean, test_size=0.3)\n",
    "\n",
    "clf_worstMean = DecisionTreeClassifier()\n",
    "clf_worstMean.fit(x_worstMean_train,y_worstMean_train)\n",
    "predictions_worstMean = clf_worstMean.predict(x_worstMean_test)\n",
    "\n",
    "accuracy_score(y_worstMean_test, predictions_worstMean)"
   ]
  },
  {
   "cell_type": "code",
   "execution_count": null,
   "id": "b675f1a1",
   "metadata": {},
   "outputs": [],
   "source": [
    "precision_score(y_worstMean_test, predictions_worstMean)"
   ]
  },
  {
   "cell_type": "code",
   "execution_count": null,
   "id": "06e95d1b",
   "metadata": {},
   "outputs": [],
   "source": [
    "feature_importance_worstMean = pd.DataFrame(clf_worstMean.feature_importances_, index = x_worstMean_test.columns).sort_values(0, ascending=False)\n",
    "feature_importance_worstMean.columns = ['%']\n",
    "feature_importance_worstMean"
   ]
  },
  {
   "cell_type": "code",
   "execution_count": null,
   "id": "0de12c4d",
   "metadata": {},
   "outputs": [],
   "source": [
    "dataset_custom = dataset.filter(['radius_mean','perimeter_mean','area_mean','concavity_mean','concave points_mean','radius_worst','perimeter_worst','area_worst','concave points_worst'],axis=1)\n",
    "dataset_custom"
   ]
  },
  {
   "cell_type": "code",
   "execution_count": null,
   "id": "f5252903",
   "metadata": {},
   "outputs": [],
   "source": [
    "x_custom = dataset_custom\n",
    "y_custom = dataset['diagnosis']\n",
    "\n",
    "x_custom_train, x_custom_test, y_custom_train, y_custom_test = train_test_split(x_custom, y_custom, test_size=0.3)\n",
    "\n",
    "clf_custom = DecisionTreeClassifier()\n",
    "clf_custom.fit(x_custom_train,y_custom_train)\n",
    "predictions_custom = clf_custom.predict(x_custom_test)\n",
    "\n",
    "accuracy_score(y_custom_test, predictions_custom)"
   ]
  },
  {
   "cell_type": "code",
   "execution_count": null,
   "id": "f31806fa",
   "metadata": {},
   "outputs": [],
   "source": [
    "precision_score(y_custom_test, predictions_custom)"
   ]
  },
  {
   "cell_type": "code",
   "execution_count": null,
   "id": "d5104946",
   "metadata": {},
   "outputs": [],
   "source": [
    "feature_importance_custom = pd.DataFrame(clf_custom.feature_importances_, index = x_custom_test.columns).sort_values(0, ascending=False)\n",
    "feature_importance_custom.columns = ['%']\n",
    "feature_importance_custom"
   ]
  },
  {
   "attachments": {},
   "cell_type": "markdown",
   "id": "65a7a10b",
   "metadata": {},
   "source": [
    "#### "
   ]
  },
  {
   "attachments": {},
   "cell_type": "markdown",
   "id": "1b23c5c8",
   "metadata": {},
   "source": []
  }
 ],
 "metadata": {
  "kernelspec": {
   "display_name": "Python 3",
   "language": "python",
   "name": "python3"
  },
  "language_info": {
   "codemirror_mode": {
    "name": "ipython",
    "version": 3
   },
   "file_extension": ".py",
   "mimetype": "text/x-python",
   "name": "python",
   "nbconvert_exporter": "python",
   "pygments_lexer": "ipython3",
   "version": "3.11.2"
  },
  "vscode": {
   "interpreter": {
    "hash": "aee8b7b246df8f9039afb4144a1f6fd8d2ca17a180786b69acc140d282b71a49"
   }
  }
 },
 "nbformat": 4,
 "nbformat_minor": 5
}
